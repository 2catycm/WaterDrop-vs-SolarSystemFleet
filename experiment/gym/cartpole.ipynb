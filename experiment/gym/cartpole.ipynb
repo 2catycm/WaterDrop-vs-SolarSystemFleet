{
 "cells": [
  {
   "cell_type": "code",
   "execution_count": 2,
   "outputs": [
    {
     "name": "stderr",
     "output_type": "stream",
     "text": [
      "D:\\DevEnvironment\\anaconda3\\envs\\rl\\lib\\site-packages\\gym\\envs\\classic_control\\cartpole.py:150: UserWarning: \u001B[33mWARN: You are calling 'step()' even though this environment has already returned done = True. You should always call 'reset()' once you receive 'done = True' -- any further steps are undefined behavior.\u001B[0m\n",
      "  logger.warn(\n"
     ]
    }
   ],
   "source": [
    "import gym\n",
    "env = gym.make('CartPole-v0')\n",
    "env.reset()\n",
    "for _ in range(1000):\n",
    "    env.render()\n",
    "    env.step(env.action_space.sample()) # take a random action\n",
    "env.close()"
   ],
   "metadata": {
    "collapsed": false
   }
  },
  {
   "cell_type": "code",
   "execution_count": 3,
   "outputs": [
    {
     "data": {
      "text/plain": "[1, 0, 1, 1, 1, 1, 1, 0, 1, 1]"
     },
     "execution_count": 3,
     "metadata": {},
     "output_type": "execute_result"
    }
   ],
   "source": [
    "env.action_space\n",
    "# 随机选择\n",
    "[env.action_space.sample() for i in range(10)]"
   ],
   "metadata": {
    "collapsed": false
   }
  },
  {
   "cell_type": "code",
   "execution_count": 4,
   "outputs": [
    {
     "data": {
      "text/plain": "((4,), dtype('float32'))"
     },
     "execution_count": 4,
     "metadata": {},
     "output_type": "execute_result"
    }
   ],
   "source": [
    "env.observation_space.high, env.observation_space.low, env.observation_space.bounded_above, env.observation_space.bounded_below\n",
    "env.observation_space.shape, env.observation_space.dtype\n",
    "# env.observation_space # Box类型，就是随机向量"
   ],
   "metadata": {
    "collapsed": false
   }
  },
  {
   "cell_type": "code",
   "execution_count": 5,
   "outputs": [
    {
     "data": {
      "text/plain": "(array([ 61.0322   ,   5.137726 , -63.7298   ,  -6.2807813], dtype=float32),\n 0.0,\n True,\n {'TimeLimit.truncated': False})"
     },
     "execution_count": 5,
     "metadata": {},
     "output_type": "execute_result"
    }
   ],
   "source": [
    "# step的返回值\n",
    "observation, reward, done, info=env.step(env.action_space.sample())\n",
    "# 状态，奖励，是否结束，额外信息（用来debug或者学习算法）\n",
    "observation, reward, done, info"
   ],
   "metadata": {
    "collapsed": false
   }
  },
  {
   "cell_type": "code",
   "execution_count": 6,
   "outputs": [
    {
     "data": {
      "text/plain": "array([0.0323614 , 0.00611934, 0.03459312, 0.0375671 ], dtype=float32)"
     },
     "execution_count": 6,
     "metadata": {},
     "output_type": "execute_result"
    }
   ],
   "source": [
    "# reset后会有一个初始状态\n",
    "observation = env.reset()\n",
    "observation"
   ],
   "metadata": {
    "collapsed": false
   }
  },
  {
   "cell_type": "code",
   "execution_count": 7,
   "outputs": [],
   "source": [
    "from pathlib import Path\n",
    "import gym\n",
    "from gym import logger as gymlogger\n",
    "from gym.wrappers import Monitor\n",
    "gymlogger.set_level(40) #error only\n",
    "import numpy as np\n",
    "import random\n",
    "import matplotlib\n",
    "import matplotlib.pyplot as plt\n",
    "%matplotlib inline\n",
    "import math\n",
    "import glob\n",
    "import io\n",
    "import base64\n",
    "from IPython.display import HTML, Video\n",
    "from IPython import display as ipythondisplay\n",
    "\"\"\"\n",
    "Utility functions to enable video recording of gym environment and displaying it\n",
    "To enable video, just do \"env = wrap_env(env)\"\"\n",
    "\"\"\"\n",
    "def show_video():\n",
    "  mp4list = glob.glob('video/*.mp4')\n",
    "  if len(mp4list) > 0:\n",
    "    mp4 = mp4list[0]\n",
    "    mp4 = Path(mp4).resolve().as_uri()\n",
    "    print(f\"找到{mp4}\")\n",
    "    # video = io.open(mp4, 'r+b').read()\n",
    "    # encoded = base64.b64encode(video)\n",
    "    # ipythondisplay.display(HTML(data='''<video alt=\"test\" autoplay\n",
    "    #             loop controls style=\"height: 400px;\">\n",
    "    #             <source src=\"data:video/mp4;base64,{0}\" type=\"video/mp4\" />\n",
    "    #          </video>'''.format(encoded.decode('ascii'))))\n",
    "#     return HTML(f\"\"\"\n",
    "#     <video alt=\"test\" controls>\n",
    "#         <source src=\"{str(mp4)}\" type=\"video/mov\">\n",
    "#     </video>\n",
    "# \"\"\")\n",
    "    return Video(mp4)\n",
    "\n",
    "  else:\n",
    "    print(\"Could not find video\")\n",
    "def wrap_env(env):\n",
    "  env = Monitor(env, './video', force=True)\n",
    "  return env"
   ],
   "metadata": {
    "collapsed": false
   }
  },
  {
   "cell_type": "code",
   "execution_count": 8,
   "outputs": [
    {
     "name": "stdout",
     "output_type": "stream",
     "text": [
      "Using cuda device\n",
      "Wrapping the env with a `Monitor` wrapper\n",
      "Wrapping the env in a DummyVecEnv.\n",
      "------------------------------------\n",
      "| rollout/              |          |\n",
      "|    ep_len_mean        | 15.9     |\n",
      "|    ep_rew_mean        | 15.9     |\n",
      "| time/                 |          |\n",
      "|    fps                | 122      |\n",
      "|    iterations         | 100      |\n",
      "|    time_elapsed       | 4        |\n",
      "|    total_timesteps    | 500      |\n",
      "| train/                |          |\n",
      "|    entropy_loss       | -0.689   |\n",
      "|    explained_variance | 0.166    |\n",
      "|    learning_rate      | 0.0007   |\n",
      "|    n_updates          | 99       |\n",
      "|    policy_loss        | 2        |\n",
      "|    value_loss         | 8.44     |\n",
      "------------------------------------\n",
      "------------------------------------\n",
      "| rollout/              |          |\n",
      "|    ep_len_mean        | 18.9     |\n",
      "|    ep_rew_mean        | 18.9     |\n",
      "| time/                 |          |\n",
      "|    fps                | 173      |\n",
      "|    iterations         | 200      |\n",
      "|    time_elapsed       | 5        |\n",
      "|    total_timesteps    | 1000     |\n",
      "| train/                |          |\n",
      "|    entropy_loss       | -0.693   |\n",
      "|    explained_variance | -0.195   |\n",
      "|    learning_rate      | 0.0007   |\n",
      "|    n_updates          | 199      |\n",
      "|    policy_loss        | 1.8      |\n",
      "|    value_loss         | 8.61     |\n",
      "------------------------------------\n",
      "------------------------------------\n",
      "| rollout/              |          |\n",
      "|    ep_len_mean        | 21.3     |\n",
      "|    ep_rew_mean        | 21.3     |\n",
      "| time/                 |          |\n",
      "|    fps                | 209      |\n",
      "|    iterations         | 300      |\n",
      "|    time_elapsed       | 7        |\n",
      "|    total_timesteps    | 1500     |\n",
      "| train/                |          |\n",
      "|    entropy_loss       | -0.677   |\n",
      "|    explained_variance | -0.0105  |\n",
      "|    learning_rate      | 0.0007   |\n",
      "|    n_updates          | 299      |\n",
      "|    policy_loss        | 1.71     |\n",
      "|    value_loss         | 7.11     |\n",
      "------------------------------------\n",
      "------------------------------------\n",
      "| rollout/              |          |\n",
      "|    ep_len_mean        | 25.9     |\n",
      "|    ep_rew_mean        | 25.9     |\n",
      "| time/                 |          |\n",
      "|    fps                | 229      |\n",
      "|    iterations         | 400      |\n",
      "|    time_elapsed       | 8        |\n",
      "|    total_timesteps    | 2000     |\n",
      "| train/                |          |\n",
      "|    entropy_loss       | -0.618   |\n",
      "|    explained_variance | 0.0201   |\n",
      "|    learning_rate      | 0.0007   |\n",
      "|    n_updates          | 399      |\n",
      "|    policy_loss        | 1.32     |\n",
      "|    value_loss         | 6.03     |\n",
      "------------------------------------\n",
      "------------------------------------\n",
      "| rollout/              |          |\n",
      "|    ep_len_mean        | 28.4     |\n",
      "|    ep_rew_mean        | 28.4     |\n",
      "| time/                 |          |\n",
      "|    fps                | 243      |\n",
      "|    iterations         | 500      |\n",
      "|    time_elapsed       | 10       |\n",
      "|    total_timesteps    | 2500     |\n",
      "| train/                |          |\n",
      "|    entropy_loss       | -0.628   |\n",
      "|    explained_variance | -0.0079  |\n",
      "|    learning_rate      | 0.0007   |\n",
      "|    n_updates          | 499      |\n",
      "|    policy_loss        | 0.857    |\n",
      "|    value_loss         | 5.45     |\n",
      "------------------------------------\n",
      "-------------------------------------\n",
      "| rollout/              |           |\n",
      "|    ep_len_mean        | 31.5      |\n",
      "|    ep_rew_mean        | 31.5      |\n",
      "| time/                 |           |\n",
      "|    fps                | 255       |\n",
      "|    iterations         | 600       |\n",
      "|    time_elapsed       | 11        |\n",
      "|    total_timesteps    | 3000      |\n",
      "| train/                |           |\n",
      "|    entropy_loss       | -0.669    |\n",
      "|    explained_variance | -0.000174 |\n",
      "|    learning_rate      | 0.0007    |\n",
      "|    n_updates          | 599       |\n",
      "|    policy_loss        | 1.07      |\n",
      "|    value_loss         | 4.88      |\n",
      "-------------------------------------\n",
      "-------------------------------------\n",
      "| rollout/              |           |\n",
      "|    ep_len_mean        | 34.7      |\n",
      "|    ep_rew_mean        | 34.7      |\n",
      "| time/                 |           |\n",
      "|    fps                | 263       |\n",
      "|    iterations         | 700       |\n",
      "|    time_elapsed       | 13        |\n",
      "|    total_timesteps    | 3500      |\n",
      "| train/                |           |\n",
      "|    entropy_loss       | -0.58     |\n",
      "|    explained_variance | -0.000895 |\n",
      "|    learning_rate      | 0.0007    |\n",
      "|    n_updates          | 699       |\n",
      "|    policy_loss        | 1.28      |\n",
      "|    value_loss         | 4.29      |\n",
      "-------------------------------------\n",
      "------------------------------------\n",
      "| rollout/              |          |\n",
      "|    ep_len_mean        | 38.6     |\n",
      "|    ep_rew_mean        | 38.6     |\n",
      "| time/                 |          |\n",
      "|    fps                | 268      |\n",
      "|    iterations         | 800      |\n",
      "|    time_elapsed       | 14       |\n",
      "|    total_timesteps    | 4000     |\n",
      "| train/                |          |\n",
      "|    entropy_loss       | -0.58    |\n",
      "|    explained_variance | -0.00177 |\n",
      "|    learning_rate      | 0.0007   |\n",
      "|    n_updates          | 799      |\n",
      "|    policy_loss        | 0.972    |\n",
      "|    value_loss         | 3.76     |\n",
      "------------------------------------\n",
      "------------------------------------\n",
      "| rollout/              |          |\n",
      "|    ep_len_mean        | 42.2     |\n",
      "|    ep_rew_mean        | 42.2     |\n",
      "| time/                 |          |\n",
      "|    fps                | 273      |\n",
      "|    iterations         | 900      |\n",
      "|    time_elapsed       | 16       |\n",
      "|    total_timesteps    | 4500     |\n",
      "| train/                |          |\n",
      "|    entropy_loss       | -0.654   |\n",
      "|    explained_variance | 0.00163  |\n",
      "|    learning_rate      | 0.0007   |\n",
      "|    n_updates          | 899      |\n",
      "|    policy_loss        | 0.79     |\n",
      "|    value_loss         | 3.21     |\n",
      "------------------------------------\n",
      "-------------------------------------\n",
      "| rollout/              |           |\n",
      "|    ep_len_mean        | 47.5      |\n",
      "|    ep_rew_mean        | 47.5      |\n",
      "| time/                 |           |\n",
      "|    fps                | 271       |\n",
      "|    iterations         | 1000      |\n",
      "|    time_elapsed       | 18        |\n",
      "|    total_timesteps    | 5000      |\n",
      "| train/                |           |\n",
      "|    entropy_loss       | -0.64     |\n",
      "|    explained_variance | -0.000493 |\n",
      "|    learning_rate      | 0.0007    |\n",
      "|    n_updates          | 999       |\n",
      "|    policy_loss        | 0.688     |\n",
      "|    value_loss         | 2.72      |\n",
      "-------------------------------------\n",
      "------------------------------------\n",
      "| rollout/              |          |\n",
      "|    ep_len_mean        | 52.3     |\n",
      "|    ep_rew_mean        | 52.3     |\n",
      "| time/                 |          |\n",
      "|    fps                | 271      |\n",
      "|    iterations         | 1100     |\n",
      "|    time_elapsed       | 20       |\n",
      "|    total_timesteps    | 5500     |\n",
      "| train/                |          |\n",
      "|    entropy_loss       | -0.497   |\n",
      "|    explained_variance | 0.000227 |\n",
      "|    learning_rate      | 0.0007   |\n",
      "|    n_updates          | 1099     |\n",
      "|    policy_loss        | 0.8      |\n",
      "|    value_loss         | 2.29     |\n",
      "------------------------------------\n",
      "-------------------------------------\n",
      "| rollout/              |           |\n",
      "|    ep_len_mean        | 56.4      |\n",
      "|    ep_rew_mean        | 56.4      |\n",
      "| time/                 |           |\n",
      "|    fps                | 275       |\n",
      "|    iterations         | 1200      |\n",
      "|    time_elapsed       | 21        |\n",
      "|    total_timesteps    | 6000      |\n",
      "| train/                |           |\n",
      "|    entropy_loss       | -0.572    |\n",
      "|    explained_variance | -0.000582 |\n",
      "|    learning_rate      | 0.0007    |\n",
      "|    n_updates          | 1199      |\n",
      "|    policy_loss        | 0.817     |\n",
      "|    value_loss         | 1.89      |\n",
      "-------------------------------------\n",
      "-------------------------------------\n",
      "| rollout/              |           |\n",
      "|    ep_len_mean        | 60.3      |\n",
      "|    ep_rew_mean        | 60.3      |\n",
      "| time/                 |           |\n",
      "|    fps                | 279       |\n",
      "|    iterations         | 1300      |\n",
      "|    time_elapsed       | 23        |\n",
      "|    total_timesteps    | 6500      |\n",
      "| train/                |           |\n",
      "|    entropy_loss       | -0.604    |\n",
      "|    explained_variance | -7.44e-05 |\n",
      "|    learning_rate      | 0.0007    |\n",
      "|    n_updates          | 1299      |\n",
      "|    policy_loss        | 0.641     |\n",
      "|    value_loss         | 1.53      |\n",
      "-------------------------------------\n",
      "-------------------------------------\n",
      "| rollout/              |           |\n",
      "|    ep_len_mean        | 64.6      |\n",
      "|    ep_rew_mean        | 64.6      |\n",
      "| time/                 |           |\n",
      "|    fps                | 280       |\n",
      "|    iterations         | 1400      |\n",
      "|    time_elapsed       | 24        |\n",
      "|    total_timesteps    | 7000      |\n",
      "| train/                |           |\n",
      "|    entropy_loss       | -0.643    |\n",
      "|    explained_variance | -9.54e-06 |\n",
      "|    learning_rate      | 0.0007    |\n",
      "|    n_updates          | 1399      |\n",
      "|    policy_loss        | 0.563     |\n",
      "|    value_loss         | 1.21      |\n",
      "-------------------------------------\n",
      "-------------------------------------\n",
      "| rollout/              |           |\n",
      "|    ep_len_mean        | 69.4      |\n",
      "|    ep_rew_mean        | 69.4      |\n",
      "| time/                 |           |\n",
      "|    fps                | 284       |\n",
      "|    iterations         | 1500      |\n",
      "|    time_elapsed       | 26        |\n",
      "|    total_timesteps    | 7500      |\n",
      "| train/                |           |\n",
      "|    entropy_loss       | -0.551    |\n",
      "|    explained_variance | -1.07e-05 |\n",
      "|    learning_rate      | 0.0007    |\n",
      "|    n_updates          | 1499      |\n",
      "|    policy_loss        | 0.313     |\n",
      "|    value_loss         | 0.924     |\n",
      "-------------------------------------\n",
      "------------------------------------\n",
      "| rollout/              |          |\n",
      "|    ep_len_mean        | 73.3     |\n",
      "|    ep_rew_mean        | 73.3     |\n",
      "| time/                 |          |\n",
      "|    fps                | 286      |\n",
      "|    iterations         | 1600     |\n",
      "|    time_elapsed       | 27       |\n",
      "|    total_timesteps    | 8000     |\n",
      "| train/                |          |\n",
      "|    entropy_loss       | -0.582   |\n",
      "|    explained_variance | 1.25e-05 |\n",
      "|    learning_rate      | 0.0007   |\n",
      "|    n_updates          | 1599     |\n",
      "|    policy_loss        | 0.489    |\n",
      "|    value_loss         | 0.674    |\n",
      "------------------------------------\n",
      "------------------------------------\n",
      "| rollout/              |          |\n",
      "|    ep_len_mean        | 78.5     |\n",
      "|    ep_rew_mean        | 78.5     |\n",
      "| time/                 |          |\n",
      "|    fps                | 288      |\n",
      "|    iterations         | 1700     |\n",
      "|    time_elapsed       | 29       |\n",
      "|    total_timesteps    | 8500     |\n",
      "| train/                |          |\n",
      "|    entropy_loss       | -0.517   |\n",
      "|    explained_variance | -7.5e-05 |\n",
      "|    learning_rate      | 0.0007   |\n",
      "|    n_updates          | 1699     |\n",
      "|    policy_loss        | 0.389    |\n",
      "|    value_loss         | 0.468    |\n",
      "------------------------------------\n",
      "-------------------------------------\n",
      "| rollout/              |           |\n",
      "|    ep_len_mean        | 81.8      |\n",
      "|    ep_rew_mean        | 81.8      |\n",
      "| time/                 |           |\n",
      "|    fps                | 289       |\n",
      "|    iterations         | 1800      |\n",
      "|    time_elapsed       | 31        |\n",
      "|    total_timesteps    | 9000      |\n",
      "| train/                |           |\n",
      "|    entropy_loss       | -0.601    |\n",
      "|    explained_variance | -0.000422 |\n",
      "|    learning_rate      | 0.0007    |\n",
      "|    n_updates          | 1799      |\n",
      "|    policy_loss        | 0.206     |\n",
      "|    value_loss         | 0.286     |\n",
      "-------------------------------------\n",
      "------------------------------------\n",
      "| rollout/              |          |\n",
      "|    ep_len_mean        | 86.7     |\n",
      "|    ep_rew_mean        | 86.7     |\n",
      "| time/                 |          |\n",
      "|    fps                | 291      |\n",
      "|    iterations         | 1900     |\n",
      "|    time_elapsed       | 32       |\n",
      "|    total_timesteps    | 9500     |\n",
      "| train/                |          |\n",
      "|    entropy_loss       | -0.542   |\n",
      "|    explained_variance | 1.19e-07 |\n",
      "|    learning_rate      | 0.0007   |\n",
      "|    n_updates          | 1899     |\n",
      "|    policy_loss        | 0.286    |\n",
      "|    value_loss         | 0.156    |\n",
      "------------------------------------\n",
      "-------------------------------------\n",
      "| rollout/              |           |\n",
      "|    ep_len_mean        | 90.7      |\n",
      "|    ep_rew_mean        | 90.7      |\n",
      "| time/                 |           |\n",
      "|    fps                | 293       |\n",
      "|    iterations         | 2000      |\n",
      "|    time_elapsed       | 34        |\n",
      "|    total_timesteps    | 10000     |\n",
      "| train/                |           |\n",
      "|    entropy_loss       | -0.323    |\n",
      "|    explained_variance | -0.000569 |\n",
      "|    learning_rate      | 0.0007    |\n",
      "|    n_updates          | 1999      |\n",
      "|    policy_loss        | 0.214     |\n",
      "|    value_loss         | 0.0683    |\n",
      "-------------------------------------\n"
     ]
    },
    {
     "data": {
      "text/plain": "<stable_baselines3.a2c.a2c.A2C at 0x1f9de33fe80>"
     },
     "execution_count": 8,
     "metadata": {},
     "output_type": "execute_result"
    }
   ],
   "source": [
    "from stable_baselines3 import A2C\n",
    "model = A2C(\"MlpPolicy\", env, verbose=1)\n",
    "# model.learn(total_timesteps=10_000)\n",
    "model.learn(total_timesteps=10_000)"
   ],
   "metadata": {
    "collapsed": false
   }
  },
  {
   "cell_type": "code",
   "execution_count": 9,
   "outputs": [
    {
     "name": "stderr",
     "output_type": "stream",
     "text": [
      "D:\\DevEnvironment\\anaconda3\\envs\\rl\\lib\\site-packages\\pyglet\\image\\codecs\\wic.py:406: UserWarning: [WinError -2147417850] 无法在设置线程模式后对其加以更改。\n",
      "  warnings.warn(str(err))\n",
      "  2%|▏         | 199/10000 [00:02<02:12, 74.00it/s]\n"
     ]
    }
   ],
   "source": [
    "env = wrap_env(gym.make(\"CartPole-v0\"))\n",
    "observation = env.reset()\n",
    "# while True:\n",
    "import tqdm\n",
    "for i in tqdm.tqdm(range(10000)):\n",
    "    env.render()\n",
    "    #your agent goes here\n",
    "    # action = env.action_space.sample()\n",
    "    action, _model_state = model.predict(observation, deterministic=True)\n",
    "    observation, reward, done, info = env.step(action)\n",
    "    if done:\n",
    "      break\n",
    "env.close()"
   ],
   "metadata": {
    "collapsed": false
   }
  },
  {
   "cell_type": "code",
   "execution_count": 16,
   "outputs": [
    {
     "data": {
      "text/plain": "gym.envs.classic_control.cartpole.CartPoleEnv"
     },
     "execution_count": 16,
     "metadata": {},
     "output_type": "execute_result"
    }
   ],
   "source": [
    "t = type(env.env.env)\n",
    "t\n",
    "from  gym.envs.classic_control.cartpole import CartPoleEnv"
   ],
   "metadata": {
    "collapsed": false
   }
  },
  {
   "cell_type": "code",
   "execution_count": 10,
   "outputs": [
    {
     "name": "stdout",
     "output_type": "stream",
     "text": [
      "找到file:///E:/AsciiStandardPath/PracticeFile/spring23/P_Evolutionary_Computation_And_Its_Application/WaterDrop-vs-SolarSystemFleet/experiment/gym/video/openaigym.video.0.29756.video000000.mp4\n"
     ]
    },
    {
     "ename": "ValueError",
     "evalue": "To embed videos, you must pass embed=True (this may make your notebook files huge)\nConsider passing Video(url='...')",
     "output_type": "error",
     "traceback": [
      "\u001B[1;31m---------------------------------------------------------------------------\u001B[0m",
      "\u001B[1;31mValueError\u001B[0m                                Traceback (most recent call last)",
      "\u001B[1;32m~\\AppData\\Local\\Temp\\ipykernel_29756\\2759807314.py\u001B[0m in \u001B[0;36m<module>\u001B[1;34m\u001B[0m\n\u001B[1;32m----> 1\u001B[1;33m \u001B[0mshow_video\u001B[0m\u001B[1;33m(\u001B[0m\u001B[1;33m)\u001B[0m\u001B[1;33m\u001B[0m\u001B[1;33m\u001B[0m\u001B[0m\n\u001B[0m",
      "\u001B[1;32m~\\AppData\\Local\\Temp\\ipykernel_29756\\2172195697.py\u001B[0m in \u001B[0;36mshow_video\u001B[1;34m()\u001B[0m\n\u001B[0;32m     36\u001B[0m \u001B[1;31m#     </video>\u001B[0m\u001B[1;33m\u001B[0m\u001B[1;33m\u001B[0m\u001B[0m\n\u001B[0;32m     37\u001B[0m \u001B[1;31m# \"\"\")\u001B[0m\u001B[1;33m\u001B[0m\u001B[1;33m\u001B[0m\u001B[0m\n\u001B[1;32m---> 38\u001B[1;33m     \u001B[1;32mreturn\u001B[0m \u001B[0mVideo\u001B[0m\u001B[1;33m(\u001B[0m\u001B[0mmp4\u001B[0m\u001B[1;33m)\u001B[0m\u001B[1;33m\u001B[0m\u001B[1;33m\u001B[0m\u001B[0m\n\u001B[0m\u001B[0;32m     39\u001B[0m \u001B[1;33m\u001B[0m\u001B[0m\n\u001B[0;32m     40\u001B[0m   \u001B[1;32melse\u001B[0m\u001B[1;33m:\u001B[0m\u001B[1;33m\u001B[0m\u001B[1;33m\u001B[0m\u001B[0m\n",
      "\u001B[1;32mD:\\DevEnvironment\\anaconda3\\envs\\rl\\lib\\site-packages\\IPython\\core\\display.py\u001B[0m in \u001B[0;36m__init__\u001B[1;34m(self, data, url, filename, embed, mimetype, width, height, html_attributes)\u001B[0m\n\u001B[0;32m   1408\u001B[0m                 \u001B[1;34m\"Consider passing Video(url='...')\"\u001B[0m\u001B[1;33m,\u001B[0m\u001B[1;33m\u001B[0m\u001B[1;33m\u001B[0m\u001B[0m\n\u001B[0;32m   1409\u001B[0m             ])\n\u001B[1;32m-> 1410\u001B[1;33m             \u001B[1;32mraise\u001B[0m \u001B[0mValueError\u001B[0m\u001B[1;33m(\u001B[0m\u001B[0mmsg\u001B[0m\u001B[1;33m)\u001B[0m\u001B[1;33m\u001B[0m\u001B[1;33m\u001B[0m\u001B[0m\n\u001B[0m\u001B[0;32m   1411\u001B[0m \u001B[1;33m\u001B[0m\u001B[0m\n\u001B[0;32m   1412\u001B[0m         \u001B[0mself\u001B[0m\u001B[1;33m.\u001B[0m\u001B[0mmimetype\u001B[0m \u001B[1;33m=\u001B[0m \u001B[0mmimetype\u001B[0m\u001B[1;33m\u001B[0m\u001B[1;33m\u001B[0m\u001B[0m\n",
      "\u001B[1;31mValueError\u001B[0m: To embed videos, you must pass embed=True (this may make your notebook files huge)\nConsider passing Video(url='...')"
     ]
    }
   ],
   "source": [
    "show_video()"
   ],
   "metadata": {
    "collapsed": false
   }
  },
  {
   "cell_type": "code",
   "execution_count": null,
   "outputs": [],
   "source": [
    "Video(data='video/openaigym.video.3.31636.video000000.mp4', filename='video/openaigym.video.3.31636.video000000.mp4')"
   ],
   "metadata": {
    "collapsed": false
   }
  }
 ],
 "metadata": {
  "kernelspec": {
   "display_name": "Python 3",
   "language": "python",
   "name": "python3"
  },
  "language_info": {
   "codemirror_mode": {
    "name": "ipython",
    "version": 2
   },
   "file_extension": ".py",
   "mimetype": "text/x-python",
   "name": "python",
   "nbconvert_exporter": "python",
   "pygments_lexer": "ipython2",
   "version": "2.7.6"
  }
 },
 "nbformat": 4,
 "nbformat_minor": 0
}
