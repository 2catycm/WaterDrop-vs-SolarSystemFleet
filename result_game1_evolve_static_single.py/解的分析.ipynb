{
 "cells": [
  {
   "cell_type": "code",
   "execution_count": 1,
   "metadata": {
    "collapsed": true
   },
   "outputs": [
    {
     "data": {
      "text/html": [
       "<div>\n",
       "<style scoped>\n",
       "    .dataframe tbody tr th:only-of-type {\n",
       "        vertical-align: middle;\n",
       "    }\n",
       "\n",
       "    .dataframe tbody tr th {\n",
       "        vertical-align: top;\n",
       "    }\n",
       "\n",
       "    .dataframe thead th {\n",
       "        text-align: right;\n",
       "    }\n",
       "</style>\n",
       "<table border=\"1\" class=\"dataframe\">\n",
       "  <thead>\n",
       "    <tr style=\"text-align: right;\">\n",
       "      <th></th>\n",
       "      <th>station1</th>\n",
       "      <th>station2</th>\n",
       "      <th>station3</th>\n",
       "      <th>station4</th>\n",
       "      <th>station5</th>\n",
       "      <th>station6</th>\n",
       "      <th>station7</th>\n",
       "      <th>station8</th>\n",
       "      <th>station9</th>\n",
       "      <th>station10</th>\n",
       "      <th>station11</th>\n",
       "      <th>station12</th>\n",
       "    </tr>\n",
       "  </thead>\n",
       "  <tbody>\n",
       "    <tr>\n",
       "      <th>0</th>\n",
       "      <td>453</td>\n",
       "      <td>314</td>\n",
       "      <td>46</td>\n",
       "      <td>92</td>\n",
       "      <td>975</td>\n",
       "      <td>573</td>\n",
       "      <td>801</td>\n",
       "      <td>390</td>\n",
       "      <td>140</td>\n",
       "      <td>76</td>\n",
       "      <td>18</td>\n",
       "      <td>217</td>\n",
       "    </tr>\n",
       "  </tbody>\n",
       "</table>\n",
       "</div>"
      ],
      "text/plain": [
       "   station1  station2  station3  station4  station5  station6  station7  \\\n",
       "0       453       314        46        92       975       573       801   \n",
       "\n",
       "   station8  station9  station10  station11  station12  \n",
       "0       390       140         76         18        217  "
      ]
     },
     "execution_count": 1,
     "metadata": {},
     "output_type": "execute_result"
    }
   ],
   "source": [
    "from pathlib import Path\n",
    "this_file = Path('.').resolve()\n",
    "project_directory = this_file.parent\n",
    "project_directory\n",
    "import pandas as pd\n",
    "df = pd.read_csv(project_directory/'result_game1_evolve_static_single.py'/'optPop'/'Phen.csv', header=None, names=[f'station{i}'for i in range(1, 12+1)])\n",
    "df = df.astype(int)\n",
    "df.head()"
   ]
  },
  {
   "cell_type": "code",
   "execution_count": 2,
   "metadata": {
    "collapsed": false
   },
   "outputs": [
    {
     "data": {
      "text/plain": [
       "array([[453, 314,  46,  92, 975, 573, 801, 390, 140,  76,  18, 217]])"
      ]
     },
     "execution_count": 2,
     "metadata": {},
     "output_type": "execute_result"
    }
   ],
   "source": [
    "df.to_numpy()"
   ]
  },
  {
   "cell_type": "code",
   "execution_count": 3,
   "metadata": {
    "collapsed": false
   },
   "outputs": [],
   "source": [
    "import sys\n",
    "sys.path.append(project_directory.as_posix())"
   ]
  },
  {
   "cell_type": "code",
   "execution_count": 4,
   "metadata": {
    "collapsed": false
   },
   "outputs": [],
   "source": [
    "import src.game1_evolve_static_multi as game\n",
    "problem = game.WaterDropMarch()\n",
    "f,cv = problem.evalVars(df.to_numpy())"
   ]
  },
  {
   "cell_type": "code",
   "execution_count": 5,
   "metadata": {
    "collapsed": false
   },
   "outputs": [
    {
     "data": {
      "text/plain": [
       "2.623755107719404"
      ]
     },
     "execution_count": 5,
     "metadata": {},
     "output_type": "execute_result"
    }
   ],
   "source": [
    "import numpy as np\n",
    "K = 1\n",
    "-np.log(np.sum(np.exp(-K * f))) / K"
   ]
  },
  {
   "cell_type": "code",
   "execution_count": 6,
   "metadata": {
    "collapsed": false
   },
   "outputs": [
    {
     "data": {
      "text/plain": [
       "3.7265290000000006"
      ]
     },
     "execution_count": 6,
     "metadata": {},
     "output_type": "execute_result"
    }
   ],
   "source": [
    "f.min()"
   ]
  },
  {
   "cell_type": "code",
   "execution_count": 7,
   "metadata": {},
   "outputs": [],
   "source": [
    "import src.utils as utils\n",
    "data = utils.get_data()\n",
    "opportunity_list = utils.get_opportunity_list(data)\n",
    "stations, asteroids = utils.get_stations_and_asteroids(opportunity_list)\n",
    "opportunities = len(opportunity_list)\n",
    "station_groups = opportunity_list.groupby('station')\n",
    "group_indices = station_groups.indices"
   ]
  },
  {
   "cell_type": "code",
   "execution_count": 8,
   "metadata": {},
   "outputs": [],
   "source": [
    "import src.representations as resp\n",
    "vars = resp.make_vars(df.to_numpy())\n",
    "raw_vars = resp.vars2raw_vars(vars, group_indices, opportunity_list)"
   ]
  },
  {
   "cell_type": "code",
   "execution_count": 9,
   "metadata": {},
   "outputs": [
    {
     "data": {
      "text/plain": [
       "array([[49.127, 53.823, 40.829, 44.588, 17.193, 20.114, 24.27 , 25.945,\n",
       "        70.975, 80.1  , 54.823, 63.292, 64.292, 69.975, 45.588, 48.127,\n",
       "        26.945, 32.801, 21.114, 23.27 ,  9.474, 16.193, 33.801, 39.829,\n",
       "         7.   ,  1.   ,  7.   ,  1.   ,  2.   ,  2.   ,  6.   ,  1.   ,\n",
       "         5.   ,  3.   ,  9.   ,  1.   ,  2.   ,  1.   ,  2.   ,  1.   ,\n",
       "         1.   ,  3.   ,  2.   ,  1.   , 11.   ,  1.   ,  9.   ,  1.   ,\n",
       "        11.   ,  1.   ,  9.   ,  1.   ,  8.   ,  1.   ,  5.   ,  1.   ,\n",
       "         9.   ,  1.   , 11.   ,  1.   ,  1.   ,  1.   ,  1.   ,  2.   ,\n",
       "         2.   ,  1.   ,  9.   ,  3.   ,  8.   ,  1.   ,  6.   ,  1.   ,\n",
       "         9.   ,  1.   ,  4.   ,  3.   ,  3.   ,  1.   , 10.   ,  2.   ,\n",
       "         1.   ,  1.   ,  1.   ,  1.   , 12.   ,  1.   ,  9.   ,  3.   ,\n",
       "         6.   ,  1.   ,  7.   ,  1.   ,  1.   ,  2.   ,  4.   ,  2.   ,\n",
       "         9.   ,  3.   ,  8.   ,  2.   ,  4.   ,  2.   ,  4.   ,  1.   ,\n",
       "         3.   ,  1.   , 12.   ,  2.   ,  1.   ,  4.   ,  2.   ,  1.   ,\n",
       "         3.   ,  1.   ,  6.   ,  1.   ,  6.   ,  1.   , 12.   ,  1.   ,\n",
       "         8.   ,  1.   ,  9.   ,  2.   ,  9.   ,  1.   ,  8.   ,  1.   ,\n",
       "         7.   ,  1.   ,  4.   ,  1.   ,  2.   ,  1.   ,  5.   ,  4.   ,\n",
       "         2.   ,  1.   , 10.   ,  2.   ,  8.   ,  1.   , 12.   ,  2.   ,\n",
       "         3.   ,  1.   , 11.   ,  1.   , 10.   ,  1.   ,  6.   ,  1.   ,\n",
       "         2.   ,  2.   ,  1.   ,  2.   ,  2.   ,  1.   ,  3.   ,  1.   ,\n",
       "         3.   ,  1.   , 12.   ,  2.   ,  8.   ,  1.   ,  6.   ,  1.   ,\n",
       "         4.   ,  2.   ,  2.   ,  2.   , 10.   ,  2.   , 10.   ,  1.   ,\n",
       "         7.   ,  1.   , 12.   ,  1.   , 12.   ,  2.   ,  1.   ,  1.   ,\n",
       "        11.   ,  1.   , 11.   ,  1.   , 11.   ,  2.   ,  2.   ,  1.   ,\n",
       "        12.   ,  1.   ,  0.   ,  0.   ,  1.   ,  3.   ,  3.   ,  2.   ,\n",
       "        12.   ,  1.   ,  6.   ,  1.   ,  1.   ,  1.   ,  5.   ,  1.   ,\n",
       "         0.   ,  0.   ,  0.   ,  0.   ,  0.   ,  0.   ,  0.   ,  0.   ,\n",
       "         0.   ,  0.   ,  0.   ,  0.   ,  0.   ,  0.   ,  0.   ,  0.   ,\n",
       "         0.   ,  0.   ,  0.   ,  0.   ,  0.   ,  0.   ,  5.   ,  1.   ,\n",
       "         5.   ,  1.   ,  5.   ,  1.   ,  5.   ,  1.   ,  5.   ,  1.   ,\n",
       "         5.   ,  1.   ,  5.   ,  1.   ,  5.   ,  1.   ,  0.   ,  0.   ,\n",
       "         5.   ,  1.   ,  5.   ,  1.   ,  5.   ,  1.   ,  5.   ,  1.   ,\n",
       "         5.   ,  1.   ,  5.   ,  1.   ,  5.   ,  1.   ,  5.   ,  1.   ,\n",
       "         0.   ,  0.   ,  5.   ,  1.   ,  0.   ,  0.   ,  0.   ,  0.   ,\n",
       "         0.   ,  0.   ,  6.   ,  1.   ,  5.   ,  1.   ,  7.   ,  1.   ,\n",
       "         7.   ,  2.   ,  2.   ,  1.   ,  0.   ,  0.   ,  0.   ,  0.   ,\n",
       "         4.   ,  1.   ,  7.   ,  1.   ,  5.   ,  1.   ,  5.   ,  2.   ,\n",
       "        11.   ,  1.   , 11.   ,  2.   ,  5.   ,  1.   ,  6.   ,  2.   ,\n",
       "        12.   ,  2.   ,  2.   ,  2.   ,  7.   ,  1.   ,  2.   ,  2.   ,\n",
       "         6.   ,  2.   ,  9.   ,  2.   ,  9.   ,  1.   , 12.   ,  1.   ,\n",
       "         7.   ,  1.   ,  6.   ,  1.   , 12.   ,  1.   , 12.   ,  1.   ,\n",
       "         3.   ,  1.   ,  2.   ,  1.   , 12.   ,  2.   ,  6.   ,  1.   ,\n",
       "         1.   ,  1.   ,  2.   ,  1.   ,  9.   ,  3.   ,  6.   ,  1.   ,\n",
       "         9.   ,  1.   ,  2.   ,  1.   ,  2.   ,  1.   , 10.   ,  1.   ,\n",
       "         5.   ,  4.   , 12.   ,  1.   ,  6.   ,  2.   ,  4.   ,  1.   ,\n",
       "         4.   ,  1.   ,  5.   ,  1.   ,  6.   ,  2.   ,  5.   ,  1.   ,\n",
       "         6.   ,  1.   ,  3.   ,  1.   ,  9.   ,  2.   ,  6.   ,  1.   ,\n",
       "        11.   ,  1.   ,  9.   ,  1.   ,  1.   ,  1.   ,  2.   ,  2.   ,\n",
       "         1.   ,  1.   ,  6.   ,  2.   ,  2.   ,  1.   ,  6.   ,  1.   ,\n",
       "        11.   ,  1.   ,  9.   ,  3.   ,  1.   ,  2.   ,  2.   ,  3.   ,\n",
       "         5.   ,  4.   ,  9.   ,  1.   ,  1.   ,  1.   , 11.   ,  1.   ,\n",
       "         1.   ,  2.   , 12.   ,  1.   ,  9.   ,  3.   ,  9.   ,  3.   ,\n",
       "        11.   ,  1.   ,  6.   ,  1.   ,  6.   ,  2.   ,  7.   ,  1.   ,\n",
       "         7.   ,  1.   ,  6.   ,  1.   ,  8.   ,  1.   ,  8.   ,  1.   ,\n",
       "         6.   ,  1.   ,  5.   ,  1.   ,  8.   ,  1.   , 11.   ,  1.   ,\n",
       "         1.   ,  1.   , 12.   ,  2.   ,  7.   ,  2.   ,  4.   ,  1.   ,\n",
       "         3.   ,  1.   ,  6.   ,  2.   , 12.   ,  1.   ,  1.   ,  3.   ,\n",
       "         6.   ,  1.   ,  8.   ,  2.   ,  2.   ,  2.   ,  3.   ,  1.   ,\n",
       "        12.   ,  2.   ,  3.   ,  1.   , 11.   ,  1.   ,  8.   ,  2.   ,\n",
       "        11.   ,  1.   ,  9.   ,  2.   ,  1.   ,  1.   ,  5.   ,  1.   ,\n",
       "        12.   ,  1.   ,  8.   ,  2.   ,  1.   ,  1.   ,  7.   ,  1.   ,\n",
       "         9.   ,  2.   ,  2.   ,  1.   , 10.   ,  2.   , 12.   ,  2.   ,\n",
       "         5.   ,  3.   ,  8.   ,  1.   , 12.   ,  2.   ,  5.   ,  2.   ,\n",
       "         5.   ,  3.   ,  0.   ,  0.   ,  6.   ,  1.   ,  4.   ,  2.   ,\n",
       "         2.   ,  1.   ,  1.   ,  2.   ,  3.   ,  1.   ,  7.   ,  1.   ,\n",
       "         0.   ,  0.   ,  1.   ,  1.   ,  6.   ,  1.   ,  2.   ,  1.   ,\n",
       "         0.   ,  0.   ,  8.   ,  1.   , 10.   ,  2.   ,  7.   ,  1.   ,\n",
       "         7.   ,  1.   ,  9.   ,  1.   ,  5.   ,  1.   ,  5.   ,  4.   ,\n",
       "         7.   ,  1.   ,  9.   ,  1.   , 12.   ,  1.   ,  9.   ,  2.   ,\n",
       "         8.   ,  2.   ,  9.   ,  1.   ,  7.   ,  1.   ,  4.   ,  2.   ,\n",
       "         9.   ,  3.   ,  1.   ,  2.   , 12.   ,  1.   ,  1.   ,  1.   ,\n",
       "         6.   ,  2.   ,  1.   ,  2.   ,  7.   ,  1.   ,  2.   ,  1.   ,\n",
       "         6.   ,  1.   ,  2.   ,  1.   ,  6.   ,  2.   ,  1.   ,  1.   ,\n",
       "         1.   ,  1.   ,  2.   ,  1.   ,  6.   ,  1.   ,  7.   ,  1.   ,\n",
       "         6.   ,  1.   , 12.   ,  1.   ,  1.   ,  2.   ,  7.   ,  2.   ,\n",
       "         6.   ,  1.   ,  2.   ,  2.   ,  8.   ,  2.   ,  7.   ,  1.   ,\n",
       "         8.   ,  2.   ,  7.   ,  1.   ,  1.   ,  1.   , 10.   ,  2.   ,\n",
       "         4.   ,  2.   ,  0.   ,  0.   ,  7.   ,  1.   ,  7.   ,  1.   ,\n",
       "         4.   ,  1.   ,  6.   ,  1.   ,  6.   ,  1.   ,  3.   ,  1.   ,\n",
       "         6.   ,  1.   ,  1.   ,  1.   ,  6.   ,  1.   ,  6.   ,  1.   ,\n",
       "         3.   ,  1.   ,  8.   ,  3.   ,  4.   ,  2.   ,  9.   ,  1.   ,\n",
       "         8.   ,  2.   ,  3.   ,  1.   ,  2.   ,  2.   , 12.   ,  1.   ,\n",
       "         1.   ,  1.   ,  3.   ,  1.   ,  1.   ,  1.   , 11.   ,  1.   ,\n",
       "         2.   ,  2.   ,  4.   ,  2.   ,  8.   ,  3.   ,  6.   ,  1.   ,\n",
       "        12.   ,  1.   , 11.   ,  1.   ,  5.   ,  1.   ,  2.   ,  3.   ,\n",
       "        12.   ,  1.   , 10.   ,  1.   , 12.   ,  1.   ,  6.   ,  1.   ,\n",
       "        11.   ,  1.   ,  2.   ,  3.   , 12.   ,  1.   ,  6.   ,  1.   ,\n",
       "        10.   ,  1.   , 11.   ,  1.   ,  2.   ,  3.   ,  4.   ,  1.   ]])"
      ]
     },
     "execution_count": 9,
     "metadata": {},
     "output_type": "execute_result"
    }
   ],
   "source": [
    "raw_vars"
   ]
  },
  {
   "cell_type": "code",
   "execution_count": 10,
   "metadata": {},
   "outputs": [],
   "source": [
    "udp_vars = resp.raw_vars2udp_vars(raw_vars, )"
   ]
  },
  {
   "cell_type": "code",
   "execution_count": 11,
   "metadata": {},
   "outputs": [
    {
     "data": {
      "text/plain": [
       "array([0., 1., 2., 3., 4.])"
      ]
     },
     "execution_count": 11,
     "metadata": {},
     "output_type": "execute_result"
    }
   ],
   "source": [
    "udp_vars[0:, 0:24]\n",
    "# udp_vars[0:, 24:24+6]\n",
    "udp_vars[0:, 24::3]\n",
    "np.unique(udp_vars[0:, 24+1::3])\n",
    "np.unique(udp_vars[0:, 24+2::3])\n",
    "# udp_vars[0:, 24+2::3]\n",
    "# udp_vars[0:, 24:24+6:3]"
   ]
  },
  {
   "cell_type": "code",
   "execution_count": 12,
   "metadata": {},
   "outputs": [],
   "source": [
    "pd.DataFrame(udp_vars[:, 24:].reshape(3, -1).T).to_csv('udp_vars.csv', index=False)"
   ]
  },
  {
   "cell_type": "code",
   "execution_count": 13,
   "metadata": {},
   "outputs": [
    {
     "data": {
      "text/plain": [
       "array([[  1.,   5.,   1.],\n",
       "       [  7.,   1., 228.],\n",
       "       [  1., 115.,   5.],\n",
       "       ...,\n",
       "       [  5.,   2., 340.],\n",
       "       [  1., 227.,   4.],\n",
       "       [114.,   1.,   1.]])"
      ]
     },
     "execution_count": 13,
     "metadata": {},
     "output_type": "execute_result"
    }
   ],
   "source": [
    "udp_vars[:, 24:].reshape(3, -1).T"
   ]
  },
  {
   "cell_type": "code",
   "execution_count": 14,
   "metadata": {},
   "outputs": [],
   "source": [
    "from spoc_delivery_scheduling_evaluate_code import trappist_schedule\n",
    "udp = trappist_schedule()"
   ]
  },
  {
   "cell_type": "code",
   "execution_count": 18,
   "metadata": {},
   "outputs": [
    {
     "data": {
      "text/plain": [
       "(-3.7265286, 0, 0, 0.0, 0)"
      ]
     },
     "execution_count": 18,
     "metadata": {},
     "output_type": "execute_result"
    }
   ],
   "source": [
    "fit = udp.fitness(udp_vars[0, :])\n",
    "fit\n",
    "# udp.plot(udp_vars[0, :])\n",
    "# udp.pretty(udp_vars[0, :])"
   ]
  },
  {
   "cell_type": "code",
   "execution_count": 25,
   "metadata": {},
   "outputs": [
    {
     "data": {
      "text/plain": [
       "True"
      ]
     },
     "execution_count": 25,
     "metadata": {},
     "output_type": "execute_result"
    }
   ],
   "source": [
    "f.min()\n",
    "import math \n",
    "math.isclose(f.min(), -fit[0], abs_tol=1e-6)"
   ]
  },
  {
   "cell_type": "code",
   "execution_count": 26,
   "metadata": {},
   "outputs": [
    {
     "data": {
      "text/plain": [
       "3.554382330683836e-07"
      ]
     },
     "execution_count": 26,
     "metadata": {},
     "output_type": "execute_result"
    }
   ],
   "source": [
    "f.min()+fit[0]"
   ]
  }
 ],
 "metadata": {
  "kernelspec": {
   "display_name": "Python 3",
   "language": "python",
   "name": "python3"
  },
  "language_info": {
   "codemirror_mode": {
    "name": "ipython",
    "version": 3
   },
   "file_extension": ".py",
   "mimetype": "text/x-python",
   "name": "python",
   "nbconvert_exporter": "python",
   "pygments_lexer": "ipython3",
   "version": "3.9.13"
  }
 },
 "nbformat": 4,
 "nbformat_minor": 0
}
