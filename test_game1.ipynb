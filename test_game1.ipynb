{
 "cells": [
  {
   "cell_type": "code",
   "execution_count": 1,
   "metadata": {
    "collapsed": true
   },
   "outputs": [],
   "source": [
    "import game1"
   ]
  },
  {
   "cell_type": "code",
   "execution_count": 2,
   "outputs": [],
   "source": [
    "import json\n",
    "with open('./data/spoc/scheduling/candidates.txt') as f:\n",
    "    data = json.load(f)\n",
    "import numpy as np\n",
    "# 规约为一个简单点的表示\n",
    "# List of Opportunity,\n",
    "# Opportunity = [time, station, asteroid, A, B, C] .\n",
    "opportunities = []\n",
    "for asteroid in data.keys():\n",
    "    for station in data[asteroid].keys():\n",
    "        for op in data[asteroid][station]:\n",
    "            # print(op)\n",
    "            opportunities.append([op[0], int(station), int(asteroid), *op[1:]])\n",
    "opportunities.sort(key=lambda x: x[0])\n",
    "opportunities = np.array(opportunities)"
   ],
   "metadata": {
    "collapsed": false
   }
  },
  {
   "cell_type": "code",
   "execution_count": 3,
   "outputs": [
    {
     "name": "stdout",
     "output_type": "stream",
     "text": [
      "Dict(currentABC:Box([0. 0. 0.], [inf inf inf], (3,), float32), current_op:Discrete(13920), current_row:Discrete(13), disabled:MultiBinary(13920))\n",
      "OrderedDict([('currentABC', 0), ('current_op', 0), ('current_row', 0), ('disabled', 0)])\n"
     ]
    },
    {
     "data": {
      "text/plain": "OrderedDict([('currentABC', 0),\n             ('current_op', 0),\n             ('current_row', 0),\n             ('disabled', 0)])"
     },
     "execution_count": 3,
     "metadata": {},
     "output_type": "execute_result"
    }
   ],
   "source": [
    "g = game1.WaterDropMarch(opportunities)\n",
    "s = g.state\n",
    "# s['current_op'] = 0\n",
    "# s['current_row'] = 0\n",
    "# s['disabled'] = np.zeros(len(opportunities))\n",
    "s"
   ],
   "metadata": {
    "collapsed": false
   }
  },
  {
   "cell_type": "code",
   "execution_count": 33,
   "outputs": [
    {
     "data": {
      "text/plain": "OrderedDict([('currentABC',\n              array([0.54416406, 1.554267  , 1.0078822 ], dtype=float32)),\n             ('current_op', 1606),\n             ('current_row', 9),\n             ('disabled', array([0, 1, 0, ..., 1, 1, 0], dtype=int8))])"
     },
     "execution_count": 33,
     "metadata": {},
     "output_type": "execute_result"
    }
   ],
   "source": [
    "s = g.observation_space.sample()\n",
    "s"
   ],
   "metadata": {
    "collapsed": false
   }
  },
  {
   "cell_type": "code",
   "execution_count": 34,
   "outputs": [
    {
     "data": {
      "text/plain": "OrderedDict([('currentABC',\n              array([0.54416406, 1.554267  , 1.0078822 ], dtype=float32)),\n             ('current_op', 1606),\n             ('current_row', 9),\n             ('disabled', array([0, 0, 0, ..., 0, 0, 0], dtype=int8))])"
     },
     "execution_count": 34,
     "metadata": {},
     "output_type": "execute_result"
    }
   ],
   "source": [
    "s['disabled']*=0\n",
    "s"
   ],
   "metadata": {
    "collapsed": false
   }
  },
  {
   "cell_type": "code",
   "execution_count": 28,
   "outputs": [
    {
     "data": {
      "text/plain": "0"
     },
     "execution_count": 28,
     "metadata": {},
     "output_type": "execute_result"
    }
   ],
   "source": [
    "a = {1:np.ones(5)}\n",
    "t = a[1]\n",
    "t = 0\n",
    "t"
   ],
   "metadata": {
    "collapsed": false
   }
  },
  {
   "cell_type": "code",
   "execution_count": 32,
   "outputs": [
    {
     "data": {
      "text/plain": "array([0., 0., 0., 0., 0., 0., 0., 0., 0., 0.])"
     },
     "execution_count": 32,
     "metadata": {},
     "output_type": "execute_result"
    }
   ],
   "source": [
    "a = np.ones(10)\n",
    "# a = 0\n",
    "a *= 0\n",
    "a"
   ],
   "metadata": {
    "collapsed": false
   }
  },
  {
   "cell_type": "code",
   "execution_count": 36,
   "outputs": [
    {
     "data": {
      "text/plain": "Box([0. 0. 0.], [inf inf inf], (3,), float32)"
     },
     "execution_count": 36,
     "metadata": {},
     "output_type": "execute_result"
    }
   ],
   "source": [
    "g.observation_space.keys()\n",
    "g.observation_space['currentABC']"
   ],
   "metadata": {
    "collapsed": false
   }
  }
 ],
 "metadata": {
  "kernelspec": {
   "display_name": "Python 3",
   "language": "python",
   "name": "python3"
  },
  "language_info": {
   "codemirror_mode": {
    "name": "ipython",
    "version": 2
   },
   "file_extension": ".py",
   "mimetype": "text/x-python",
   "name": "python",
   "nbconvert_exporter": "python",
   "pygments_lexer": "ipython2",
   "version": "2.7.6"
  }
 },
 "nbformat": 4,
 "nbformat_minor": 0
}
