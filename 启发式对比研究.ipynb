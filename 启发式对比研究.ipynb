{
 "cells": [
  {
   "cell_type": "code",
   "execution_count": 1,
   "outputs": [],
   "source": [
    "from src import game1_evolve_static_single\n",
    "# from spoc_delivery_scheduling_evaluate_code import trappist_schedule\n",
    "from typing import List\n",
    "import numpy as np\n",
    "from tqdm import tqdm, trange"
   ],
   "metadata": {
    "collapsed": false
   }
  },
  {
   "cell_type": "code",
   "execution_count": 2,
   "outputs": [],
   "source": [
    "def evaluate(opt_decision_fun, experiment_times=10) -> np.ndarray:\n",
    "    result = np.zeros(experiment_times)\n",
    "    for j in trange(experiment_times):\n",
    "        _, rewards = opt_decision_fun()\n",
    "        result[j] = rewards\n",
    "    return result"
   ],
   "metadata": {
    "collapsed": false
   }
  },
  {
   "cell_type": "code",
   "execution_count": 3,
   "outputs": [
    {
     "name": "stderr",
     "output_type": "stream",
     "text": [
      "  0%|          | 0/10 [00:00<?, ?it/s]"
     ]
    },
    {
     "name": "stdout",
     "output_type": "stream",
     "text": [
      "[0.84018859]\n",
      "最强的内部fitness是0.8401885857386324\n"
     ]
    },
    {
     "name": "stderr",
     "output_type": "stream",
     "text": [
      " 10%|█         | 1/10 [00:24<03:39, 24.36s/it]"
     ]
    },
    {
     "name": "stdout",
     "output_type": "stream",
     "text": [
      "[[-1.90885103  0.          0.          0.          0.        ]]\n",
      "[0.6833414]\n",
      "最强的内部fitness是0.6833413995502412\n"
     ]
    },
    {
     "name": "stderr",
     "output_type": "stream",
     "text": [
      " 20%|██        | 2/10 [00:48<03:13, 24.25s/it]"
     ]
    },
    {
     "name": "stdout",
     "output_type": "stream",
     "text": [
      "[[-1.45189297  0.          0.          0.          0.        ]]\n",
      "[1.20621027]\n",
      "最强的内部fitness是1.2062102744178314\n"
     ]
    },
    {
     "name": "stderr",
     "output_type": "stream",
     "text": [
      " 30%|███       | 3/10 [01:13<02:51, 24.53s/it]"
     ]
    },
    {
     "name": "stdout",
     "output_type": "stream",
     "text": [
      "[[-1.70324707  0.          0.          0.          0.        ]]\n",
      "[1.42425394]\n",
      "最强的内部fitness是1.4242539406814831\n"
     ]
    },
    {
     "name": "stderr",
     "output_type": "stream",
     "text": [
      " 40%|████      | 4/10 [01:38<02:27, 24.60s/it]"
     ]
    },
    {
     "name": "stdout",
     "output_type": "stream",
     "text": [
      "[[-2.41544008  0.          0.          0.          0.        ]]\n",
      "[1.66408442]\n",
      "最强的内部fitness是1.6640844197920504\n"
     ]
    },
    {
     "name": "stderr",
     "output_type": "stream",
     "text": [
      " 50%|█████     | 5/10 [02:02<02:02, 24.47s/it]"
     ]
    },
    {
     "name": "stdout",
     "output_type": "stream",
     "text": [
      "[[-2.75572586  0.          0.          0.          0.        ]]\n",
      "[1.07271654]\n",
      "最强的内部fitness是1.0727165354920192\n"
     ]
    },
    {
     "name": "stderr",
     "output_type": "stream",
     "text": [
      " 60%|██████    | 6/10 [02:26<01:36, 24.21s/it]"
     ]
    },
    {
     "name": "stdout",
     "output_type": "stream",
     "text": [
      "[[-2.11919594  0.          0.          0.          0.        ]]\n",
      "[1.21044638]\n",
      "最强的内部fitness是1.210446380530353\n"
     ]
    },
    {
     "name": "stderr",
     "output_type": "stream",
     "text": [
      " 70%|███████   | 7/10 [02:49<01:12, 24.12s/it]"
     ]
    },
    {
     "name": "stdout",
     "output_type": "stream",
     "text": [
      "[[-2.20451403  0.          0.          0.          0.        ]]\n",
      "[0.73412678]\n",
      "最强的内部fitness是0.7341267840726671\n"
     ]
    },
    {
     "name": "stderr",
     "output_type": "stream",
     "text": [
      " 80%|████████  | 8/10 [03:13<00:47, 24.00s/it]"
     ]
    },
    {
     "name": "stdout",
     "output_type": "stream",
     "text": [
      "[[-1.44165003  0.          0.          0.          0.        ]]\n",
      "[1.32262953]\n",
      "最强的内部fitness是1.3226295312426584\n"
     ]
    },
    {
     "name": "stderr",
     "output_type": "stream",
     "text": [
      " 90%|█████████ | 9/10 [03:37<00:23, 23.95s/it]"
     ]
    },
    {
     "name": "stdout",
     "output_type": "stream",
     "text": [
      "[[-2.08598614  0.          0.          0.          0.        ]]\n",
      "[0.77881471]\n",
      "最强的内部fitness是0.7788147121391656\n"
     ]
    },
    {
     "name": "stderr",
     "output_type": "stream",
     "text": [
      "100%|██████████| 10/10 [04:01<00:00, 24.12s/it]"
     ]
    },
    {
     "name": "stdout",
     "output_type": "stream",
     "text": [
      "[[-1.45189297  0.          0.          0.          0.        ]]\n"
     ]
    },
    {
     "name": "stderr",
     "output_type": "stream",
     "text": [
      "\n"
     ]
    }
   ],
   "source": [
    "dynamic_fun = lambda: game1_evolve_static_single.opt_decision(dynamic=True, log=False, equal_shift=True)\n",
    "dynamics = evaluate(dynamic_fun)"
   ],
   "metadata": {
    "collapsed": false
   }
  },
  {
   "cell_type": "code",
   "execution_count": 4,
   "outputs": [
    {
     "ename": "NameError",
     "evalue": "name 'equal_shifts' is not defined",
     "output_type": "error",
     "traceback": [
      "\u001B[1;31m---------------------------------------------------------------------------\u001B[0m",
      "\u001B[1;31mNameError\u001B[0m                                 Traceback (most recent call last)",
      "\u001B[1;32m~\\AppData\\Local\\Temp\\ipykernel_25968\\2869137229.py\u001B[0m in \u001B[0;36m<module>\u001B[1;34m\u001B[0m\n\u001B[0;32m      9\u001B[0m \u001B[1;36m1.695000\u001B[0m\u001B[1;33m,\u001B[0m\u001B[1;33m\u001B[0m\u001B[1;33m\u001B[0m\u001B[0m\n\u001B[0;32m     10\u001B[0m 1.974139]\n\u001B[1;32m---> 11\u001B[1;33m \u001B[0mequal_shifts\u001B[0m\u001B[1;33m\u001B[0m\u001B[1;33m\u001B[0m\u001B[0m\n\u001B[0m",
      "\u001B[1;31mNameError\u001B[0m: name 'equal_shifts' is not defined"
     ]
    }
   ],
   "source": [
    "singles = [1.788169,\n",
    "3.241599,\n",
    "2.202873,\n",
    "2.493492,\n",
    "1.902053,\n",
    "2.574564,\n",
    "2.522172,\n",
    "2.708441,\n",
    "1.695000,\n",
    "1.974139]\n",
    "# equal_shifts"
   ],
   "metadata": {
    "collapsed": false
   }
  },
  {
   "cell_type": "code",
   "execution_count": null,
   "outputs": [],
   "source": [
    "from scipy.stats import mannwhitneyu # 无顺序\n",
    "# stat, p = mannwhitneyu(equal_shifts, singles, alternative='greater')\n",
    "# stat, p = mannwhitneyu(dynamics, singles, alternative='greater')\n",
    "stat, p = mannwhitneyu(dynamics, equal_shifts, alternative='greater')\n",
    "# stat, p = mannwhitneyu(equal_shifts, singles, alternative='two-sided')\n",
    "# stat, p = mannwhitneyu(equal_shifts, singles, alternative='less')\n",
    "stat, p"
   ],
   "metadata": {
    "collapsed": false
   }
  },
  {
   "cell_type": "code",
   "execution_count": null,
   "outputs": [],
   "source": [
    "import pandas as pd\n",
    "df = pd.DataFrame({'equal_shift':equal_shifts, 'dynamics':dynamics})\n",
    "df.to_excel(\"equal_shifts作用.xlsx\")"
   ],
   "metadata": {
    "collapsed": false
   }
  },
  {
   "cell_type": "code",
   "execution_count": null,
   "outputs": [],
   "source": [
    "df"
   ],
   "metadata": {
    "collapsed": false
   }
  },
  {
   "cell_type": "code",
   "execution_count": null,
   "outputs": [],
   "source": [
    "df.head()"
   ],
   "metadata": {
    "collapsed": false
   }
  }
 ],
 "metadata": {
  "kernelspec": {
   "display_name": "Python 3",
   "language": "python",
   "name": "python3"
  },
  "language_info": {
   "codemirror_mode": {
    "name": "ipython",
    "version": 2
   },
   "file_extension": ".py",
   "mimetype": "text/x-python",
   "name": "python",
   "nbconvert_exporter": "python",
   "pygments_lexer": "ipython2",
   "version": "2.7.6"
  }
 },
 "nbformat": 4,
 "nbformat_minor": 0
}
